{
  "nbformat": 4,
  "nbformat_minor": 0,
  "metadata": {
    "colab": {
      "provenance": []
    },
    "kernelspec": {
      "name": "python3",
      "display_name": "Python 3"
    },
    "language_info": {
      "name": "python"
    }
  },
  "cells": [
    {
      "cell_type": "code",
      "execution_count": null,
      "metadata": {
        "colab": {
          "base_uri": "https://localhost:8080/"
        },
        "id": "dxQgd7-T-hPz",
        "outputId": "ac90f336-1335-46c6-c86a-9080a563c2ad"
      },
      "outputs": [
        {
          "output_type": "stream",
          "name": "stdout",
          "text": [
            "Dataset shapes:\n",
            "Dow Jones: (1312, 9)\n",
            "NASDAQ: (1312, 9)\n",
            "Portfolio: (27, 5)\n",
            "Portfolio Prices: (35397, 9)\n",
            "S&P 500: (1312, 9)\n",
            "\n",
            "Column structures:\n",
            "Portfolio columns: ['Ticker', 'Quantity', 'Sector', 'Close', 'Weight']\n",
            "Portfolio Prices columns: ['Date', 'Ticker', 'Open', 'High', 'Low', 'Close', 'Adjusted', 'Returns', 'Volume']\n",
            "S&P 500 columns: ['Date', 'Ticker', 'Open', 'High', 'Low', 'Close', 'Adjusted', 'Returns', 'Volume']\n",
            "\n",
            "Portfolio data sample:\n",
            "  Ticker  Quantity                Sector       Close    Weight\n",
            "0   AAPL         1                    IT  218.270004  3.461290\n",
            "1   ADAP         1       Pharmaceuticals    0.291000  0.004615\n",
            "2   AGCO         1           Agriculture   93.089996  1.476206\n",
            "3     BA         2  Military Engineering  178.110001  2.824439\n",
            "4     BG         4           Agriculture   73.250000  1.161586\n",
            "\n",
            "Portfolio prices sample:\n",
            "         Date Ticker        Open        High         Low       Close  \\\n",
            "0  2020-01-03    JPM  137.500000  139.229996  137.080002  138.339996   \n",
            "1  2020-01-03     KO   54.320000   54.990002   54.090000   54.689999   \n",
            "2  2020-01-03    LMT  404.019989  417.170013  403.000000  413.739990   \n",
            "3  2020-01-03     MS   51.220001   51.450001   50.830002   51.200001   \n",
            "4  2020-01-03   MSCI  262.200012  263.579987  259.269989  260.750000   \n",
            "\n",
            "     Adjusted   Returns    Volume  \n",
            "0  119.874138 -0.013197  10386800  \n",
            "1   46.494698 -0.005455  11354500  \n",
            "2  359.312317  0.035981   2990100  \n",
            "3   43.273079 -0.016142   6706000  \n",
            "4  248.019470 -0.019921    459700  \n",
            "\n",
            "S&P 500 data sample:\n",
            "         Date Ticker         Open         High          Low        Close  \\\n",
            "0  2020-01-02   GSPC  3244.669922  3258.139893  3235.530029  3257.850098   \n",
            "1  2020-01-03   GSPC  3226.360107  3246.149902  3222.340088  3234.850098   \n",
            "2  2020-01-06   GSPC  3217.550049  3246.840088  3214.639893  3246.280029   \n",
            "3  2020-01-07   GSPC  3241.860107  3244.909912  3232.429932  3237.179932   \n",
            "4  2020-01-08   GSPC  3238.590088  3267.070068  3236.669922  3253.050049   \n",
            "\n",
            "      Adjusted   Returns      Volume  \n",
            "0  3257.850098       NaN  3459930000  \n",
            "1  3234.850098 -0.007060  3484700000  \n",
            "2  3246.280029  0.003533  3702460000  \n",
            "3  3237.179932 -0.002803  3435910000  \n",
            "4  3253.050049  0.004902  3726840000  \n"
          ]
        }
      ],
      "source": [
        "import pandas as pd\n",
        "import numpy as np\n",
        "import warnings\n",
        "warnings.filterwarnings('ignore')\n",
        "\n",
        "# Load the portfolio datasets\n",
        "dow_jones_df = pd.read_csv('Dow_Jones.csv')\n",
        "nasdaq_df = pd.read_csv('NASDAQ .csv')\n",
        "portfolio_df = pd.read_csv('Portfolio.csv')\n",
        "portfolio_prices_df = pd.read_csv('Portfolio_prices.csv')\n",
        "sp500_df = pd.read_csv('SP500.csv')\n",
        "\n",
        "print(\"Dataset shapes:\")\n",
        "print(f\"Dow Jones: {dow_jones_df.shape}\")\n",
        "print(f\"NASDAQ: {nasdaq_df.shape}\")\n",
        "print(f\"Portfolio: {portfolio_df.shape}\")\n",
        "print(f\"Portfolio Prices: {portfolio_prices_df.shape}\")\n",
        "print(f\"S&P 500: {sp500_df.shape}\")\n",
        "\n",
        "print(\"\\nColumn structures:\")\n",
        "print(\"Portfolio columns:\", portfolio_df.columns.tolist())\n",
        "print(\"Portfolio Prices columns:\", portfolio_prices_df.columns.tolist())\n",
        "print(\"S&P 500 columns:\", sp500_df.columns.tolist())\n",
        "\n",
        "# Initial data inspection\n",
        "print(\"\\nPortfolio data sample:\")\n",
        "print(portfolio_df.head())\n",
        "\n",
        "print(\"\\nPortfolio prices sample:\")\n",
        "print(portfolio_prices_df.head())\n",
        "\n",
        "print(\"\\nS&P 500 data sample:\")\n",
        "print(sp500_df.head())\n"
      ]
    },
    {
      "cell_type": "code",
      "source": [
        "# Step 2: Complete Portfolio Analysis\n",
        "portfolio_weights = dict(zip(portfolio_df['Ticker'], portfolio_df['Weight'] / 100))\n",
        "portfolio_data = portfolio_prices_df[portfolio_prices_df['Ticker'].isin(portfolio_weights.keys())].copy()\n",
        "portfolio_data['Weight'] = portfolio_data['Ticker'].map(portfolio_weights)\n",
        "portfolio_data['Weighted_Return'] = portfolio_data['Returns'].fillna(0) * portfolio_data['Weight']\n",
        "portfolio_returns = portfolio_data.groupby('Date')['Weighted_Return'].sum()"
      ],
      "metadata": {
        "id": "qnBNABjEHk69"
      },
      "execution_count": null,
      "outputs": []
    },
    {
      "cell_type": "code",
      "source": [
        "annual_return = portfolio_returns.mean() * 252\n",
        "volatility = portfolio_returns.std() * np.sqrt(252)\n",
        "sharpe_ratio = annual_return / volatility\n",
        "sp500_returns = sp500_df.set_index('Date')['Returns'].reindex(portfolio_returns.index).fillna(0)\n",
        "beta = portfolio_returns.cov(sp500_returns) / sp500_returns.var()\n",
        "sector_weights = portfolio_df.groupby('Sector')['Weight'].sum()\n",
        "var_95 = np.percentile(portfolio_returns, 5)\n",
        "cumulative = (1 + portfolio_returns).cumprod()\n",
        "max_drawdown = ((cumulative - cumulative.cummax()) / cumulative.cummax()).min()"
      ],
      "metadata": {
        "id": "1niQGF98IBpK"
      },
      "execution_count": null,
      "outputs": []
    },
    {
      "cell_type": "code",
      "source": [
        "# Step 3: Export for agents\n",
        "import json\n",
        "agent_data = {\n",
        "    'performance': {'return': float(annual_return), 'sharpe': float(sharpe_ratio), 'beta': float(beta)},\n",
        "    'sectors': sector_weights.to_dict(),\n",
        "    'risk': {'var': float(var_95), 'drawdown': float(max_drawdown)}\n",
        "}\n",
        "\n",
        "with open('financial_agent_insights.json', 'w') as f:\n",
        "    json.dump(agent_data, f, indent=2)\n",
        "\n",
        "print(\"Analysis complete. Ready for Langflow.\")"
      ],
      "metadata": {
        "colab": {
          "base_uri": "https://localhost:8080/"
        },
        "id": "b4QaE2f1H8z7",
        "outputId": "7d99585e-1b85-4295-b733-ddccfd5ce3ae"
      },
      "execution_count": null,
      "outputs": [
        {
          "output_type": "stream",
          "name": "stdout",
          "text": [
            "Analysis complete. Ready for Langflow.\n"
          ]
        }
      ]
    }
  ]
}